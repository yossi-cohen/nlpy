{
 "cells": [
  {
   "cell_type": "code",
   "execution_count": 1,
   "metadata": {},
   "outputs": [],
   "source": [
    "import numpy"
   ]
  },
  {
   "cell_type": "code",
   "execution_count": 2,
   "metadata": {},
   "outputs": [],
   "source": [
    "def relu(inputs):\n",
    "    mask = inputs > 0\n",
    "    def backprop_relu(d_outputs, optimizer):\n",
    "        return d_outputs * mask\n",
    "    return inputs * mask, backprop_relu"
   ]
  },
  {
   "cell_type": "code",
   "execution_count": null,
   "metadata": {},
   "outputs": [],
   "source": [
    "def create_linear_layer(n_out, n_in):\n",
    "    W = numpy.zeros((n_out, n_in))\n",
    "    b = numpy.zeros((n_out, 1))\n",
    "\n",
    "    def forward(X):\n",
    "        Y = W @ X + b\n",
    "        def backward(dY, optimizer):\n",
    "            dX = W.T @ dY\n",
    "            dW = numpy.einsum('ik,jk->ij', dY, X)\n",
    "            db = dY.sum(axis=0)\n",
    "\n",
    "            optimizer(W, dW)\n",
    "            optimizer(b, db)\n",
    "\n",
    "            return dX\n",
    "        return Y, backward\n",
    "    return forward"
   ]
  }
 ],
 "metadata": {
  "kernelspec": {
   "display_name": "env",
   "language": "python",
   "name": "env"
  },
  "language_info": {
   "codemirror_mode": {
    "name": "ipython",
    "version": 3
   },
   "file_extension": ".py",
   "mimetype": "text/x-python",
   "name": "python",
   "nbconvert_exporter": "python",
   "pygments_lexer": "ipython3",
   "version": "3.5.2"
  }
 },
 "nbformat": 4,
 "nbformat_minor": 2
}
