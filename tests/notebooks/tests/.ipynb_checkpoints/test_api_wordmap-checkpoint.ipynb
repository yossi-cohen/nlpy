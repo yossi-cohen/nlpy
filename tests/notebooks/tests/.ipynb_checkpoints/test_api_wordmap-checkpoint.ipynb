{
 "cells": [
  {
   "cell_type": "code",
   "execution_count": 7,
   "metadata": {},
   "outputs": [
    {
     "name": "stdout",
     "output_type": "stream",
     "text": [
      "{\n",
      "    \"human cognition\": 1,\n",
      "    \"google 's google brain and deepmind unit\": 1,\n",
      "    \"model\": 1,\n",
      "    \"machine learning\": 1,\n",
      "    \"scientist\": 1,\n",
      "    \"computer\": 1,\n",
      "    \"the world\": 1,\n",
      "    \"ai\": 1,\n",
      "    \"a way\": 1,\n",
      "    \"network\": 1,\n",
      "    \"relation\": 1,\n",
      "    \"thing\": 1\n",
      "}\n"
     ]
    }
   ],
   "source": [
    "import requests\n",
    "import json\n",
    "\n",
    "file = '../../docs/text3'\n",
    "with open(file, 'r') as f:\n",
    "    text = f.read()\n",
    "    # available methods are: 'noun_chunks', 'entities', 'tokens', 'gensim'\n",
    "    data = {'text': text, 'method': 'noun_chunks'}\n",
    "    headers = {'Content-type': 'application/json', 'Accept': 'text/plain'}\n",
    "    url = 'http://localhost:5000/nlp/wordmap'\n",
    "    res = requests.post(url, data=json.dumps(data), headers=headers)\n",
    "    print(res.text)"
   ]
  }
 ],
 "metadata": {
  "kernelspec": {
   "display_name": "env",
   "language": "python",
   "name": "env"
  },
  "language_info": {
   "codemirror_mode": {
    "name": "ipython",
    "version": 3
   },
   "file_extension": ".py",
   "mimetype": "text/x-python",
   "name": "python",
   "nbconvert_exporter": "python",
   "pygments_lexer": "ipython3",
   "version": "3.5.2"
  }
 },
 "nbformat": 4,
 "nbformat_minor": 2
}
