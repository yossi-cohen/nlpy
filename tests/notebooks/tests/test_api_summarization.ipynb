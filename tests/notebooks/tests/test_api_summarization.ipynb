{
 "cells": [
  {
   "cell_type": "code",
   "execution_count": 1,
   "metadata": {},
   "outputs": [
    {
     "name": "stdout",
     "output_type": "stream",
     "text": [
      "Prime Minister Benjamin Netanyahu on Sunday warned Hamas that Israel will continue to operate against the terrorism stemming from the Gaza Strip, apparently confirming that no official ceasefire agreement had been reached with the terrorist group.\n"
     ]
    }
   ],
   "source": [
    "import requests\n",
    "import json\n",
    "\n",
    "file = '../../docs/text6'\n",
    "with open(file, 'r') as f:\n",
    "    text = f.read()\n",
    "    data = {'text': text, 'word_count': 50}\n",
    "    headers = {'Content-type': 'application/json', 'Accept': 'text/plain'}\n",
    "    url = 'http://localhost:5000/nlp/summarization'\n",
    "    res = requests.post(url, data=json.dumps(data), headers=headers)\n",
    "    print(res.text)"
   ]
  },
  {
   "cell_type": "code",
   "execution_count": 2,
   "metadata": {},
   "outputs": [
    {
     "name": "stdout",
     "output_type": "stream",
     "text": [
      "Netanyahu: Israel won’t accept anything less than a full ceasefire in Gaza\n",
      "Hamas has paid a heavy price in recent hostilities, Israel has operational plans ready, prime minister says\n",
      "By TOI STAFF\n",
      "12 August 2018, 1:48 pm  7\n",
      "941\n",
      "shares\n",
      "Prime Minister Benjamin Netanyahu addresses the weekly cabinet meeting in his Jerusalem office, August 12, 2018. (Jim Hollander/Pool via AP)\n",
      "Prime Minister Benjamin Netanyahu addresses the weekly cabinet meeting in his Jerusalem office, August 12, 2018. (Jim Hollander/Pool via AP)\n",
      "Prime Minister Benjamin Netanyahu on Sunday warned Hamas that Israel will continue to operate against the terrorism stemming from the Gaza Strip, apparently confirming that no official ceasefire agreement had been reached with the terrorist group.\n",
      "\n",
      "“We are in the midst of a campaign against terror in Gaza. It entails an exchange of blows; it will not end in one strike. Our demand is clear – a complete ceasefire. We will not suffice with less than this,” said Netanyahu.\n",
      "\n",
      "\n",
      "Speaking at the opening of the weekly cabinet meeting, the prime minister added said Israel wouldn’t rest until security was restored in full for the residents of southern Israel.\n",
      "\n",
      "Get The Times of Israel's Daily Edition by email and never miss our top stories FREE SIGN UP\n",
      "“As of now, we have destroyed hundreds of Hamas military targets, and in each round the IDF exacts an additional heavy price. I will not reveal our operational plans here; they are ready,” Netanyahu said. “Our objective is to restore the quiet to residents of the south and the area adjacent to the Gaza Strip. This goal will be achieved in full.”\n",
      "\n",
      "\n",
      "A plume of smoke rises from the remains of a building west of Gaza City that was targeted by the Israeli Air Force in response to a rocket attack that hit southern Israel earlier in the day on August 9, 2018. (Mahmud Hams/AFP)\n",
      "Senior Israel officials maintain the country has not agreed to the ceasefire which Hamas announced late Thursday and said went into effect at midnight. Hamas claims the deal was mediated by Egypt and other regional players.\n",
      "\n",
      "The apparent truce came after two days of spiraling violence that saw the heaviest exchanges of fire between Israel and the Gaza terrorist organization since 2014’s Operation Protective Edge.\n",
      "\n",
      "Energy Minister Yuval Steinitz said earlier on Sunday that Israel could overthrow Hamas, as a report indicated that Israel was mulling assassinating the leaders of the terrorist group that rules the Gaza Strip.\n",
      "\n",
      "“Toppling Hamas is an option, and we are closer to it than ever,” the Likud minister told the Kan public broadcaster.\n",
      "\n",
      "\n",
      "Energy Minister Yuval Steinitz attends a plenum session at the Knesset in Jerusalem,\n",
      "May 23, 2018. (Yonatan Sindel/Flash90)\n",
      "Steinitz, a member of the high-level security cabinet, also maintained that Israel has not signed a ceasefire with the terrorist group.\n",
      "\n",
      "“The last round [of fighting] severely harmed the production of missiles and drones. We as a [security] cabinet should see the general picture – we have not signed a truce agreement and we are keeping our cards close to our chest,” he said.\n",
      "\n",
      "Steinitz also addressed criticism that Israel had capitulated by allowing the apparent ceasefire to go into effect without demanding full security for the residents of communities surrounding the enclave, and the return of the bodies of soldiers Hadar Goldin and Oron Shaul, killed during the 2014 Gaza war, and the two civilians Avera Mengistu and Hisham al-Sayed, who are also believed to be held in the Strip.\n",
      "\n",
      "“We do not have to go to war every time they hit us,” Steinitz said. “Sometimes we will embark on military campaigns, or forceful responses.”\n",
      "\n",
      "\n",
      "The site where a projectile from the Gaza Strip hit a house in the Eshkol region of southern Israel, injuring two people, on August 9, 2018. (Eshkol Security)\n",
      "Steinitz’s comments came as the Haaretz daily reported on Sunday that Israel has formulated a plan to assassinate members of the senior Hamas leadership, but is waiting to see the outcome of the Egypt and UN-brokered negotiations before implementing it.\n",
      "\n",
      "Defense sources told the newspaper that it is believed that assassinations are preferable to a wide-scale ground offensive in Gaza, while acknowledging that targeted killings could lead to the start of a military campaign.\n",
      "\n",
      "\n",
      "Mazen Faqha upon his release after the Gilad Shalit deal in 2011. (Screen capture: Twitter)\n",
      "The newspaper noted that the killing of Hamas official Mazen Faqha last March, in a shooting attributed to Israel but for which it has not claimed responsibility, spread widespread tension and disruption in Gaza as factions fought over areas previously controlled by Faqha.\n",
      "\n",
      "Sources also told the paper that the Israeli defense establishment hopes to delay any broad conflict until at least the end of 2019, when construction of a technological above- and below-ground barrier along the Gaza border will be completed.\n",
      "\n",
      "\n",
      " \n",
      "Senior Israeli officials have said that “quiet will be met by quiet,” implying that the country is not seeking an escalation of violence, but has not openly committed to an end to hostilities. Instead, military officials hope the terror group has internalized the damage Israel can cause to its infrastructure.\n",
      "\n",
      "“Hamas understands very well what it has lost in the past few months; it can’t ignore it,” a senior IDF officer told the newspaper.\n",
      "\n",
      "Despite the apparent truce and reprieve in rocket fire, violence has continued on the border, and Israeli tanks struck two Hamas posts in the Gaza Strip Friday evening after a grenade was hurled at troops and amid intense violence during mass riots in several locations along the border.\n",
      "\n",
      "\n",
      "A Palestinian protester holds a slingshot during a demonstration at the Israel-Gaza border, in Khan Younis in the southern Gaza Strip on August 10, 2018. (AFP PHOTO / Said KHATIB)\n",
      "Around 9,000 Palestinians participated Friday in violent weekly border protests. Some protesters rioted near the fence, threw makeshift bombs, Molotov cocktails and rocks at Israeli soldiers, and burned tires to create a smokescreen. In one incident a grenade was thrown at Israeli troops, but caused no casualties. Several attempts were made to breach the security fence.\n",
      "\n",
      "The Hamas-run Gaza health ministry said three Palestinians were killed in Friday’s violence.\n",
      "\n",
      "\n",
      "A large incendiary kite launched from Gaza lands on power lines near Kibbutz Sufa, August 11, 2018. Photo: Israel Electric Corporation\n",
      "Meanwhile, incendiary kites and balloons from Gaza have continued to plague Israeli border communities, with a large incendiary kite landing on power lines near Kibbutz Sufa on Friday, causing blackouts in surrounding homes.\n",
      "\n",
      "On Saturday afternoon the IDF said it targeted a cell responsible for launching incendiary balloons in the northern Gaza Strip. Reports in Palestinian media said two people were injured in the Israeli strikes in El-Bureij.There were also Palestinian reports of a second IDF strike elsewhere in the Gaza Strip.\n",
      "\n",
      "Southern Israel has experienced hundreds of fires as a result of incendiary kites and balloons flown over the border from Gaza in recent months. Over 7,000 acres of land have been burned, causing millions of shekels in damages, according to Israeli officials.\n",
      "\n",
      "Since March, there have been near-weekly, violent protests along the Israel-Gaza border organized by Gaza’s Hamas rulers, leading to the most serious escalation between the two sides since the 2014 war.\n",
      "\n",
      "The deadly clashes have seen Israeli security forces facing gunfire, grenades, Molotov cocktails, and efforts — sometimes successful — to damage or penetrate the border fence. Last month, an Israeli soldier was killed by a sniper.\n",
      "\n",
      "\n",
      " \n",
      "Over 100 Palestinians have been killed since the start of the “March of Return” protests on March 30. Hamas has acknowledged that dozens of those killed were its members.\n",
      "\n"
     ]
    }
   ],
   "source": [
    "print(text)"
   ]
  }
 ],
 "metadata": {
  "kernelspec": {
   "display_name": "env",
   "language": "python",
   "name": "env"
  },
  "language_info": {
   "codemirror_mode": {
    "name": "ipython",
    "version": 3
   },
   "file_extension": ".py",
   "mimetype": "text/x-python",
   "name": "python",
   "nbconvert_exporter": "python",
   "pygments_lexer": "ipython3",
   "version": "3.5.2"
  }
 },
 "nbformat": 4,
 "nbformat_minor": 2
}
